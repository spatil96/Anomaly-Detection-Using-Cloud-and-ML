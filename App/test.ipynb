{
 "cells": [
  {
   "cell_type": "code",
   "execution_count": 3,
   "metadata": {},
   "outputs": [],
   "source": [
    "import requests\n",
    "import json\n",
    "import pandas as pd\n",
    "import plotly.express as px\n",
    "import plotly.utils\n",
    "\n",
    "url = \"http://149.125.110.45:5000/transactions/time/metrics\"\n",
    "response = requests.get(url)\n",
    "\n",
    "if response.status_code == 200:\n",
    "    data = json.loads(response.content)\n",
    "    \n",
    "    fraudPercent = []\n",
    "    hour = []\n",
    "    for result in data['results']:\n",
    "        if '' in result:\n",
    "            del result['']\n",
    "        fraudPercent.append(result[\"fraud_percentage\"])\n",
    "        hour.append(result[\"hour\"])\n",
    "        \n",
    "    df = pd.DataFrame({\"fraud_percentage\": fraudPercent, \"hour\": hour})\n",
    "    fig = px.line(df, x=\"hour\", y=\"fraud_percentage\")\n",
    "    fig.write_html(\"plot.html\")  # save the plot to an HTML file\n",
    "else:\n",
    "    print('Error in getting response from the url')\n"
   ]
  },
  {
   "cell_type": "code",
   "execution_count": 5,
   "metadata": {},
   "outputs": [],
   "source": [
    "import requests\n",
    "import json\n",
    "import pandas as pd\n",
    "import plotly.express as px\n",
    "\n",
    "def get_state():\n",
    "    url = \"http://149.125.110.45:5000/transactions\"\n",
    "    response = requests.get(url)\n",
    "\n",
    "    if response.status_code == 200:\n",
    "        data = json.loads(response.content)\n",
    "        \n",
    "        transactions = []\n",
    "        for transaction in data['transactions']:\n",
    "            if '' in transaction:\n",
    "                del transaction['']\n",
    "            transactions.append((transaction[\"state\"], int(transaction[\"is_fraud\"])))\n",
    "        \n",
    "        # create a dataframe with state and fraud status columns\n",
    "        df = pd.DataFrame(transactions, columns=['state', 'is_fraud'])\n",
    "        \n",
    "        # group by state and calculate the number of fraudulent transactions\n",
    "        fraud_df = df.groupby('state')['is_fraud'].sum().reset_index()\n",
    "        \n",
    "        # get state codes to use in the choropleth map\n",
    "        state_codes = pd.read_csv('https://raw.githubusercontent.com/plotly/datasets/master/2011_us_ag_exports.csv')['code']\n",
    "        \n",
    "        # merge state codes with fraud data\n",
    "        final_df = pd.merge(fraud_df, state_codes, left_on='state', right_on='state')\n",
    "        \n",
    "        # create choropleth map\n",
    "        fig = px.choropleth(final_df, \n",
    "                            locations='code', \n",
    "                            locationmode=\"USA-states\", \n",
    "                            color='is_fraud',\n",
    "                            color_continuous_scale=\"Viridis_r\", \n",
    "                            scope=\"usa\")\n",
    "        \n",
    "        fig.show()\n"
   ]
  }
 ],
 "metadata": {
  "kernelspec": {
   "display_name": "Python 3",
   "language": "python",
   "name": "python3"
  },
  "language_info": {
   "codemirror_mode": {
    "name": "ipython",
    "version": 3
   },
   "file_extension": ".py",
   "mimetype": "text/x-python",
   "name": "python",
   "nbconvert_exporter": "python",
   "pygments_lexer": "ipython3",
   "version": "3.11.1"
  },
  "orig_nbformat": 4
 },
 "nbformat": 4,
 "nbformat_minor": 2
}
